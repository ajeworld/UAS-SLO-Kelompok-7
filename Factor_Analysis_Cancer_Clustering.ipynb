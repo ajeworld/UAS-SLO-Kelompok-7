{
  "nbformat": 4,
  "nbformat_minor": 0,
  "metadata": {
    "colab": {
      "name": "Factor Analysis_Cancer Clustering.ipynb",
      "provenance": [],
      "collapsed_sections": [],
      "authorship_tag": "ABX9TyNN58LfYqNUbGBfW0glGnjw",
      "include_colab_link": true
    },
    "kernelspec": {
      "name": "python3",
      "display_name": "Python 3"
    }
  },
  "cells": [
    {
      "cell_type": "markdown",
      "metadata": {
        "id": "view-in-github",
        "colab_type": "text"
      },
      "source": [
        "<a href=\"https://colab.research.google.com/github/ajeworld/UAS-SLO-Kelompok-7/blob/main/Factor_Analysis_Cancer_Clustering.ipynb\" target=\"_parent\"><img src=\"https://colab.research.google.com/assets/colab-badge.svg\" alt=\"Open In Colab\"/></a>"
      ]
    },
    {
      "cell_type": "code",
      "metadata": {
        "colab": {
          "base_uri": "https://localhost:8080/"
        },
        "id": "bRiimBAupnmc",
        "outputId": "ee3f43b8-647d-465b-a12e-9dfeefc25074"
      },
      "source": [
        "import pandas as pd\r\n",
        "import sklearn.datasets\r\n",
        "!pip install factor_analyzer  \r\n",
        "from factor_analyzer import FactorAnalyzer\r\n",
        "from factor_analyzer import FactorAnalyzer\r\n",
        "import matplotlib.pyplot as plt"
      ],
      "execution_count": 2,
      "outputs": [
        {
          "output_type": "stream",
          "text": [
            "Requirement already satisfied: factor_analyzer in /usr/local/lib/python3.6/dist-packages (0.3.2)\n",
            "Requirement already satisfied: numpy in /usr/local/lib/python3.6/dist-packages (from factor_analyzer) (1.19.4)\n",
            "Requirement already satisfied: pandas in /usr/local/lib/python3.6/dist-packages (from factor_analyzer) (1.1.5)\n",
            "Requirement already satisfied: scikit-learn in /usr/local/lib/python3.6/dist-packages (from factor_analyzer) (0.22.2.post1)\n",
            "Requirement already satisfied: scipy in /usr/local/lib/python3.6/dist-packages (from factor_analyzer) (1.4.1)\n",
            "Requirement already satisfied: pytz>=2017.2 in /usr/local/lib/python3.6/dist-packages (from pandas->factor_analyzer) (2018.9)\n",
            "Requirement already satisfied: python-dateutil>=2.7.3 in /usr/local/lib/python3.6/dist-packages (from pandas->factor_analyzer) (2.8.1)\n",
            "Requirement already satisfied: joblib>=0.11 in /usr/local/lib/python3.6/dist-packages (from scikit-learn->factor_analyzer) (1.0.0)\n",
            "Requirement already satisfied: six>=1.5 in /usr/local/lib/python3.6/dist-packages (from python-dateutil>=2.7.3->pandas->factor_analyzer) (1.15.0)\n"
          ],
          "name": "stdout"
        }
      ]
    },
    {
      "cell_type": "code",
      "metadata": {
        "id": "bnTkwrzSptKx"
      },
      "source": [
        "dataset= pd.read_csv(\"data_cancer.csv\")"
      ],
      "execution_count": 3,
      "outputs": []
    },
    {
      "cell_type": "code",
      "metadata": {
        "colab": {
          "base_uri": "https://localhost:8080/"
        },
        "id": "KkesoL3Pp0fH",
        "outputId": "722da74f-9405-44a6-ef59-140eb570475a"
      },
      "source": [
        "dataset.columns"
      ],
      "execution_count": 4,
      "outputs": [
        {
          "output_type": "execute_result",
          "data": {
            "text/plain": [
              "Index(['id', 'diagnosis', 'radius_mean', 'texture_mean', 'perimeter_mean',\n",
              "       'area_mean', 'smoothness_mean', 'compactness_mean', 'concavity_mean',\n",
              "       'concave points_mean', 'symmetry_mean', 'fractal_dimension_mean',\n",
              "       'radius_se', 'texture_se', 'perimeter_se', 'area_se', 'smoothness_se',\n",
              "       'compactness_se', 'concavity_se', 'concave points_se', 'symmetry_se',\n",
              "       'fractal_dimension_se', 'radius_worst', 'texture_worst',\n",
              "       'perimeter_worst', 'area_worst', 'smoothness_worst',\n",
              "       'compactness_worst', 'concavity_worst', 'concave points_worst',\n",
              "       'symmetry_worst', 'fractal_dimension_worst', 'Unnamed: 32'],\n",
              "      dtype='object')"
            ]
          },
          "metadata": {
            "tags": []
          },
          "execution_count": 4
        }
      ]
    },
    {
      "cell_type": "code",
      "metadata": {
        "colab": {
          "base_uri": "https://localhost:8080/"
        },
        "id": "-RNX27WGp5C5",
        "outputId": "55ea2e6a-015b-4058-cb3d-43822059908b"
      },
      "source": [
        "dataset.info()"
      ],
      "execution_count": 5,
      "outputs": [
        {
          "output_type": "stream",
          "text": [
            "<class 'pandas.core.frame.DataFrame'>\n",
            "RangeIndex: 569 entries, 0 to 568\n",
            "Data columns (total 33 columns):\n",
            " #   Column                   Non-Null Count  Dtype  \n",
            "---  ------                   --------------  -----  \n",
            " 0   id                       569 non-null    int64  \n",
            " 1   diagnosis                569 non-null    object \n",
            " 2   radius_mean              569 non-null    float64\n",
            " 3   texture_mean             569 non-null    float64\n",
            " 4   perimeter_mean           569 non-null    float64\n",
            " 5   area_mean                569 non-null    float64\n",
            " 6   smoothness_mean          569 non-null    float64\n",
            " 7   compactness_mean         569 non-null    float64\n",
            " 8   concavity_mean           569 non-null    float64\n",
            " 9   concave points_mean      569 non-null    float64\n",
            " 10  symmetry_mean            569 non-null    float64\n",
            " 11  fractal_dimension_mean   569 non-null    float64\n",
            " 12  radius_se                569 non-null    float64\n",
            " 13  texture_se               569 non-null    float64\n",
            " 14  perimeter_se             569 non-null    float64\n",
            " 15  area_se                  569 non-null    float64\n",
            " 16  smoothness_se            569 non-null    float64\n",
            " 17  compactness_se           569 non-null    float64\n",
            " 18  concavity_se             569 non-null    float64\n",
            " 19  concave points_se        569 non-null    float64\n",
            " 20  symmetry_se              569 non-null    float64\n",
            " 21  fractal_dimension_se     569 non-null    float64\n",
            " 22  radius_worst             569 non-null    float64\n",
            " 23  texture_worst            569 non-null    float64\n",
            " 24  perimeter_worst          569 non-null    float64\n",
            " 25  area_worst               569 non-null    float64\n",
            " 26  smoothness_worst         569 non-null    float64\n",
            " 27  compactness_worst        569 non-null    float64\n",
            " 28  concavity_worst          569 non-null    float64\n",
            " 29  concave points_worst     569 non-null    float64\n",
            " 30  symmetry_worst           569 non-null    float64\n",
            " 31  fractal_dimension_worst  569 non-null    float64\n",
            " 32  Unnamed: 32              0 non-null      float64\n",
            "dtypes: float64(31), int64(1), object(1)\n",
            "memory usage: 146.8+ KB\n"
          ],
          "name": "stdout"
        }
      ]
    },
    {
      "cell_type": "code",
      "metadata": {
        "colab": {
          "base_uri": "https://localhost:8080/",
          "height": 232
        },
        "id": "MQdGj0VLp7Ba",
        "outputId": "45ba7bb3-14e4-4dc6-902d-b5acdc83de4d"
      },
      "source": [
        "dataset.head()"
      ],
      "execution_count": 6,
      "outputs": [
        {
          "output_type": "execute_result",
          "data": {
            "text/html": [
              "<div>\n",
              "<style scoped>\n",
              "    .dataframe tbody tr th:only-of-type {\n",
              "        vertical-align: middle;\n",
              "    }\n",
              "\n",
              "    .dataframe tbody tr th {\n",
              "        vertical-align: top;\n",
              "    }\n",
              "\n",
              "    .dataframe thead th {\n",
              "        text-align: right;\n",
              "    }\n",
              "</style>\n",
              "<table border=\"1\" class=\"dataframe\">\n",
              "  <thead>\n",
              "    <tr style=\"text-align: right;\">\n",
              "      <th></th>\n",
              "      <th>id</th>\n",
              "      <th>diagnosis</th>\n",
              "      <th>radius_mean</th>\n",
              "      <th>texture_mean</th>\n",
              "      <th>perimeter_mean</th>\n",
              "      <th>area_mean</th>\n",
              "      <th>smoothness_mean</th>\n",
              "      <th>compactness_mean</th>\n",
              "      <th>concavity_mean</th>\n",
              "      <th>concave points_mean</th>\n",
              "      <th>symmetry_mean</th>\n",
              "      <th>fractal_dimension_mean</th>\n",
              "      <th>radius_se</th>\n",
              "      <th>texture_se</th>\n",
              "      <th>perimeter_se</th>\n",
              "      <th>area_se</th>\n",
              "      <th>smoothness_se</th>\n",
              "      <th>compactness_se</th>\n",
              "      <th>concavity_se</th>\n",
              "      <th>concave points_se</th>\n",
              "      <th>symmetry_se</th>\n",
              "      <th>fractal_dimension_se</th>\n",
              "      <th>radius_worst</th>\n",
              "      <th>texture_worst</th>\n",
              "      <th>perimeter_worst</th>\n",
              "      <th>area_worst</th>\n",
              "      <th>smoothness_worst</th>\n",
              "      <th>compactness_worst</th>\n",
              "      <th>concavity_worst</th>\n",
              "      <th>concave points_worst</th>\n",
              "      <th>symmetry_worst</th>\n",
              "      <th>fractal_dimension_worst</th>\n",
              "      <th>Unnamed: 32</th>\n",
              "    </tr>\n",
              "  </thead>\n",
              "  <tbody>\n",
              "    <tr>\n",
              "      <th>0</th>\n",
              "      <td>842302</td>\n",
              "      <td>M</td>\n",
              "      <td>17.99</td>\n",
              "      <td>10.38</td>\n",
              "      <td>122.80</td>\n",
              "      <td>1001.0</td>\n",
              "      <td>0.11840</td>\n",
              "      <td>0.27760</td>\n",
              "      <td>0.3001</td>\n",
              "      <td>0.14710</td>\n",
              "      <td>0.2419</td>\n",
              "      <td>0.07871</td>\n",
              "      <td>1.0950</td>\n",
              "      <td>0.9053</td>\n",
              "      <td>8.589</td>\n",
              "      <td>153.40</td>\n",
              "      <td>0.006399</td>\n",
              "      <td>0.04904</td>\n",
              "      <td>0.05373</td>\n",
              "      <td>0.01587</td>\n",
              "      <td>0.03003</td>\n",
              "      <td>0.006193</td>\n",
              "      <td>25.38</td>\n",
              "      <td>17.33</td>\n",
              "      <td>184.60</td>\n",
              "      <td>2019.0</td>\n",
              "      <td>0.1622</td>\n",
              "      <td>0.6656</td>\n",
              "      <td>0.7119</td>\n",
              "      <td>0.2654</td>\n",
              "      <td>0.4601</td>\n",
              "      <td>0.11890</td>\n",
              "      <td>NaN</td>\n",
              "    </tr>\n",
              "    <tr>\n",
              "      <th>1</th>\n",
              "      <td>842517</td>\n",
              "      <td>M</td>\n",
              "      <td>20.57</td>\n",
              "      <td>17.77</td>\n",
              "      <td>132.90</td>\n",
              "      <td>1326.0</td>\n",
              "      <td>0.08474</td>\n",
              "      <td>0.07864</td>\n",
              "      <td>0.0869</td>\n",
              "      <td>0.07017</td>\n",
              "      <td>0.1812</td>\n",
              "      <td>0.05667</td>\n",
              "      <td>0.5435</td>\n",
              "      <td>0.7339</td>\n",
              "      <td>3.398</td>\n",
              "      <td>74.08</td>\n",
              "      <td>0.005225</td>\n",
              "      <td>0.01308</td>\n",
              "      <td>0.01860</td>\n",
              "      <td>0.01340</td>\n",
              "      <td>0.01389</td>\n",
              "      <td>0.003532</td>\n",
              "      <td>24.99</td>\n",
              "      <td>23.41</td>\n",
              "      <td>158.80</td>\n",
              "      <td>1956.0</td>\n",
              "      <td>0.1238</td>\n",
              "      <td>0.1866</td>\n",
              "      <td>0.2416</td>\n",
              "      <td>0.1860</td>\n",
              "      <td>0.2750</td>\n",
              "      <td>0.08902</td>\n",
              "      <td>NaN</td>\n",
              "    </tr>\n",
              "    <tr>\n",
              "      <th>2</th>\n",
              "      <td>84300903</td>\n",
              "      <td>M</td>\n",
              "      <td>19.69</td>\n",
              "      <td>21.25</td>\n",
              "      <td>130.00</td>\n",
              "      <td>1203.0</td>\n",
              "      <td>0.10960</td>\n",
              "      <td>0.15990</td>\n",
              "      <td>0.1974</td>\n",
              "      <td>0.12790</td>\n",
              "      <td>0.2069</td>\n",
              "      <td>0.05999</td>\n",
              "      <td>0.7456</td>\n",
              "      <td>0.7869</td>\n",
              "      <td>4.585</td>\n",
              "      <td>94.03</td>\n",
              "      <td>0.006150</td>\n",
              "      <td>0.04006</td>\n",
              "      <td>0.03832</td>\n",
              "      <td>0.02058</td>\n",
              "      <td>0.02250</td>\n",
              "      <td>0.004571</td>\n",
              "      <td>23.57</td>\n",
              "      <td>25.53</td>\n",
              "      <td>152.50</td>\n",
              "      <td>1709.0</td>\n",
              "      <td>0.1444</td>\n",
              "      <td>0.4245</td>\n",
              "      <td>0.4504</td>\n",
              "      <td>0.2430</td>\n",
              "      <td>0.3613</td>\n",
              "      <td>0.08758</td>\n",
              "      <td>NaN</td>\n",
              "    </tr>\n",
              "    <tr>\n",
              "      <th>3</th>\n",
              "      <td>84348301</td>\n",
              "      <td>M</td>\n",
              "      <td>11.42</td>\n",
              "      <td>20.38</td>\n",
              "      <td>77.58</td>\n",
              "      <td>386.1</td>\n",
              "      <td>0.14250</td>\n",
              "      <td>0.28390</td>\n",
              "      <td>0.2414</td>\n",
              "      <td>0.10520</td>\n",
              "      <td>0.2597</td>\n",
              "      <td>0.09744</td>\n",
              "      <td>0.4956</td>\n",
              "      <td>1.1560</td>\n",
              "      <td>3.445</td>\n",
              "      <td>27.23</td>\n",
              "      <td>0.009110</td>\n",
              "      <td>0.07458</td>\n",
              "      <td>0.05661</td>\n",
              "      <td>0.01867</td>\n",
              "      <td>0.05963</td>\n",
              "      <td>0.009208</td>\n",
              "      <td>14.91</td>\n",
              "      <td>26.50</td>\n",
              "      <td>98.87</td>\n",
              "      <td>567.7</td>\n",
              "      <td>0.2098</td>\n",
              "      <td>0.8663</td>\n",
              "      <td>0.6869</td>\n",
              "      <td>0.2575</td>\n",
              "      <td>0.6638</td>\n",
              "      <td>0.17300</td>\n",
              "      <td>NaN</td>\n",
              "    </tr>\n",
              "    <tr>\n",
              "      <th>4</th>\n",
              "      <td>84358402</td>\n",
              "      <td>M</td>\n",
              "      <td>20.29</td>\n",
              "      <td>14.34</td>\n",
              "      <td>135.10</td>\n",
              "      <td>1297.0</td>\n",
              "      <td>0.10030</td>\n",
              "      <td>0.13280</td>\n",
              "      <td>0.1980</td>\n",
              "      <td>0.10430</td>\n",
              "      <td>0.1809</td>\n",
              "      <td>0.05883</td>\n",
              "      <td>0.7572</td>\n",
              "      <td>0.7813</td>\n",
              "      <td>5.438</td>\n",
              "      <td>94.44</td>\n",
              "      <td>0.011490</td>\n",
              "      <td>0.02461</td>\n",
              "      <td>0.05688</td>\n",
              "      <td>0.01885</td>\n",
              "      <td>0.01756</td>\n",
              "      <td>0.005115</td>\n",
              "      <td>22.54</td>\n",
              "      <td>16.67</td>\n",
              "      <td>152.20</td>\n",
              "      <td>1575.0</td>\n",
              "      <td>0.1374</td>\n",
              "      <td>0.2050</td>\n",
              "      <td>0.4000</td>\n",
              "      <td>0.1625</td>\n",
              "      <td>0.2364</td>\n",
              "      <td>0.07678</td>\n",
              "      <td>NaN</td>\n",
              "    </tr>\n",
              "  </tbody>\n",
              "</table>\n",
              "</div>"
            ],
            "text/plain": [
              "         id diagnosis  ...  fractal_dimension_worst  Unnamed: 32\n",
              "0    842302         M  ...                  0.11890          NaN\n",
              "1    842517         M  ...                  0.08902          NaN\n",
              "2  84300903         M  ...                  0.08758          NaN\n",
              "3  84348301         M  ...                  0.17300          NaN\n",
              "4  84358402         M  ...                  0.07678          NaN\n",
              "\n",
              "[5 rows x 33 columns]"
            ]
          },
          "metadata": {
            "tags": []
          },
          "execution_count": 6
        }
      ]
    },
    {
      "cell_type": "code",
      "metadata": {
        "id": "yqdKbI4qp9Xo"
      },
      "source": [
        "x = dataset[['radius_mean', 'perimeter_mean', 'area_mean', 'radius_worst', 'perimeter_worst']]\r\n",
        "y = dataset['diagnosis'].copy()"
      ],
      "execution_count": 7,
      "outputs": []
    },
    {
      "cell_type": "code",
      "metadata": {
        "colab": {
          "base_uri": "https://localhost:8080/"
        },
        "id": "aemd9Bxdp_cA",
        "outputId": "48cb5425-0b2d-4d84-f8e0-052480085125"
      },
      "source": [
        "dataset= pd.read_csv(\"data_cancer.csv\")\r\n",
        "dataset = dataset.drop(columns=['Unnamed: 32'])\r\n",
        "x = dataset[['radius_mean', 'perimeter_mean', 'area_mean', 'radius_worst', 'perimeter_worst']]\r\n",
        "y = dataset['diagnosis'].replace(['M','B'],[1, 0]).copy()\r\n",
        "y.head()"
      ],
      "execution_count": 8,
      "outputs": [
        {
          "output_type": "execute_result",
          "data": {
            "text/plain": [
              "0    1\n",
              "1    1\n",
              "2    1\n",
              "3    1\n",
              "4    1\n",
              "Name: diagnosis, dtype: int64"
            ]
          },
          "metadata": {
            "tags": []
          },
          "execution_count": 8
        }
      ]
    },
    {
      "cell_type": "code",
      "metadata": {
        "id": "SH49ikLFqBPM"
      },
      "source": [
        "from sklearn.decomposition import FactorAnalysis\r\n",
        "fact_an = FactorAnalysis(n_components=2)\r\n",
        "x_factor = fact_an.fit_transform(x)"
      ],
      "execution_count": 9,
      "outputs": []
    },
    {
      "cell_type": "code",
      "metadata": {
        "id": "1uzGkCgRqIWh"
      },
      "source": [
        " from sklearn.model_selection import train_test_split\r\n",
        " x_train_fa,x_test_fa,y_train_fa,y_test_fa=train_test_split(x_factor,y,test_size=0.2)"
      ],
      "execution_count": 10,
      "outputs": []
    },
    {
      "cell_type": "code",
      "metadata": {
        "id": "ntQ5tyffqKkT"
      },
      "source": [
        "import tensorflow as tf\r\n",
        "from tensorflow import keras\r\n",
        "\r\n",
        "model = keras.Sequential()\r\n",
        "\r\n",
        "input_layer = keras.layers.Dense(8,input_dim=2,activation='tanh')\r\n",
        "model.add(input_layer)\r\n",
        "hidden_layer = keras.layers.Dense(3,activation='sigmoid')\r\n",
        "model.add(hidden_layer)\r\n",
        "output_layer = keras.layers.Dense(1, activation='sigmoid')\r\n",
        "model.add(output_layer)\r\n",
        "\r\n",
        "sgd  = keras.optimizers.SGD(lr=1)\r\n",
        "model.compile(optimizer=sgd,loss='binary_crossentropy')"
      ],
      "execution_count": 11,
      "outputs": []
    },
    {
      "cell_type": "code",
      "metadata": {
        "colab": {
          "base_uri": "https://localhost:8080/"
        },
        "id": "hqnEo6jBqMYY",
        "outputId": "1738fe46-2104-487e-c597-5b180f8ff600"
      },
      "source": [
        "model.fit(x_train_fa, y_train_fa,\r\n",
        "          epochs=100,\r\n",
        "          steps_per_epoch=10)"
      ],
      "execution_count": 12,
      "outputs": [
        {
          "output_type": "stream",
          "text": [
            "Epoch 1/100\n",
            "10/10 [==============================] - 1s 2ms/step - loss: 0.6455\n",
            "Epoch 2/100\n",
            "10/10 [==============================] - 0s 1ms/step - loss: 0.3526\n",
            "Epoch 3/100\n",
            "10/10 [==============================] - 0s 1ms/step - loss: 0.2430\n",
            "Epoch 4/100\n",
            "10/10 [==============================] - 0s 1ms/step - loss: 0.2190\n",
            "Epoch 5/100\n",
            "10/10 [==============================] - 0s 1ms/step - loss: 0.1890\n",
            "Epoch 6/100\n",
            "10/10 [==============================] - 0s 1ms/step - loss: 0.1767\n",
            "Epoch 7/100\n",
            "10/10 [==============================] - 0s 2ms/step - loss: 0.2063\n",
            "Epoch 8/100\n",
            "10/10 [==============================] - 0s 1ms/step - loss: 0.1814\n",
            "Epoch 9/100\n",
            "10/10 [==============================] - 0s 1ms/step - loss: 0.1548\n",
            "Epoch 10/100\n",
            "10/10 [==============================] - 0s 1ms/step - loss: 0.1589\n",
            "Epoch 11/100\n",
            "10/10 [==============================] - 0s 2ms/step - loss: 0.1699\n",
            "Epoch 12/100\n",
            "10/10 [==============================] - 0s 1ms/step - loss: 0.1465\n",
            "Epoch 13/100\n",
            "10/10 [==============================] - 0s 1ms/step - loss: 0.1400\n",
            "Epoch 14/100\n",
            "10/10 [==============================] - 0s 2ms/step - loss: 0.1805\n",
            "Epoch 15/100\n",
            "10/10 [==============================] - 0s 1ms/step - loss: 0.1445\n",
            "Epoch 16/100\n",
            "10/10 [==============================] - 0s 1ms/step - loss: 0.1389\n",
            "Epoch 17/100\n",
            "10/10 [==============================] - 0s 1ms/step - loss: 0.1479\n",
            "Epoch 18/100\n",
            "10/10 [==============================] - 0s 1ms/step - loss: 0.1621\n",
            "Epoch 19/100\n",
            "10/10 [==============================] - 0s 2ms/step - loss: 0.1495\n",
            "Epoch 20/100\n",
            "10/10 [==============================] - 0s 1ms/step - loss: 0.1523\n",
            "Epoch 21/100\n",
            "10/10 [==============================] - 0s 1ms/step - loss: 0.1565\n",
            "Epoch 22/100\n",
            "10/10 [==============================] - 0s 1ms/step - loss: 0.1633\n",
            "Epoch 23/100\n",
            "10/10 [==============================] - 0s 1ms/step - loss: 0.1657\n",
            "Epoch 24/100\n",
            "10/10 [==============================] - 0s 1ms/step - loss: 0.1296\n",
            "Epoch 25/100\n",
            "10/10 [==============================] - 0s 1ms/step - loss: 0.1486\n",
            "Epoch 26/100\n",
            "10/10 [==============================] - 0s 1ms/step - loss: 0.1183\n",
            "Epoch 27/100\n",
            "10/10 [==============================] - 0s 2ms/step - loss: 0.1374\n",
            "Epoch 28/100\n",
            "10/10 [==============================] - 0s 1ms/step - loss: 0.1388\n",
            "Epoch 29/100\n",
            "10/10 [==============================] - 0s 1ms/step - loss: 0.1497\n",
            "Epoch 30/100\n",
            "10/10 [==============================] - 0s 1ms/step - loss: 0.1475\n",
            "Epoch 31/100\n",
            "10/10 [==============================] - 0s 1ms/step - loss: 0.1226\n",
            "Epoch 32/100\n",
            "10/10 [==============================] - 0s 1ms/step - loss: 0.1385\n",
            "Epoch 33/100\n",
            "10/10 [==============================] - 0s 1ms/step - loss: 0.1305\n",
            "Epoch 34/100\n",
            "10/10 [==============================] - 0s 1ms/step - loss: 0.1493\n",
            "Epoch 35/100\n",
            "10/10 [==============================] - 0s 1ms/step - loss: 0.1410\n",
            "Epoch 36/100\n",
            "10/10 [==============================] - 0s 1ms/step - loss: 0.1095\n",
            "Epoch 37/100\n",
            "10/10 [==============================] - 0s 1ms/step - loss: 0.1390\n",
            "Epoch 38/100\n",
            "10/10 [==============================] - 0s 1ms/step - loss: 0.1387\n",
            "Epoch 39/100\n",
            "10/10 [==============================] - 0s 1ms/step - loss: 0.1368\n",
            "Epoch 40/100\n",
            "10/10 [==============================] - 0s 1ms/step - loss: 0.1334\n",
            "Epoch 41/100\n",
            "10/10 [==============================] - 0s 1ms/step - loss: 0.1321\n",
            "Epoch 42/100\n",
            "10/10 [==============================] - 0s 1ms/step - loss: 0.1222\n",
            "Epoch 43/100\n",
            "10/10 [==============================] - 0s 1ms/step - loss: 0.1337\n",
            "Epoch 44/100\n",
            "10/10 [==============================] - 0s 2ms/step - loss: 0.1128\n",
            "Epoch 45/100\n",
            "10/10 [==============================] - 0s 1ms/step - loss: 0.1190\n",
            "Epoch 46/100\n",
            "10/10 [==============================] - 0s 1ms/step - loss: 0.1536\n",
            "Epoch 47/100\n",
            "10/10 [==============================] - 0s 1ms/step - loss: 0.1319\n",
            "Epoch 48/100\n",
            "10/10 [==============================] - 0s 3ms/step - loss: 0.1278\n",
            "Epoch 49/100\n",
            "10/10 [==============================] - 0s 1ms/step - loss: 0.1270\n",
            "Epoch 50/100\n",
            "10/10 [==============================] - 0s 1ms/step - loss: 0.1274\n",
            "Epoch 51/100\n",
            "10/10 [==============================] - 0s 1ms/step - loss: 0.1254\n",
            "Epoch 52/100\n",
            "10/10 [==============================] - 0s 1ms/step - loss: 0.1364\n",
            "Epoch 53/100\n",
            "10/10 [==============================] - 0s 2ms/step - loss: 0.1054\n",
            "Epoch 54/100\n",
            "10/10 [==============================] - 0s 1ms/step - loss: 0.1538\n",
            "Epoch 55/100\n",
            "10/10 [==============================] - 0s 1ms/step - loss: 0.1074\n",
            "Epoch 56/100\n",
            "10/10 [==============================] - 0s 2ms/step - loss: 0.1388\n",
            "Epoch 57/100\n",
            "10/10 [==============================] - 0s 1ms/step - loss: 0.1694\n",
            "Epoch 58/100\n",
            "10/10 [==============================] - 0s 1ms/step - loss: 0.1311\n",
            "Epoch 59/100\n",
            "10/10 [==============================] - 0s 1ms/step - loss: 0.1257\n",
            "Epoch 60/100\n",
            "10/10 [==============================] - 0s 1ms/step - loss: 0.1363\n",
            "Epoch 61/100\n",
            "10/10 [==============================] - 0s 1ms/step - loss: 0.1220\n",
            "Epoch 62/100\n",
            "10/10 [==============================] - 0s 1ms/step - loss: 0.1318\n",
            "Epoch 63/100\n",
            "10/10 [==============================] - 0s 1ms/step - loss: 0.1143\n",
            "Epoch 64/100\n",
            "10/10 [==============================] - 0s 1ms/step - loss: 0.1387\n",
            "Epoch 65/100\n",
            "10/10 [==============================] - 0s 1ms/step - loss: 0.1301\n",
            "Epoch 66/100\n",
            "10/10 [==============================] - 0s 1ms/step - loss: 0.1172\n",
            "Epoch 67/100\n",
            "10/10 [==============================] - 0s 1ms/step - loss: 0.1032\n",
            "Epoch 68/100\n",
            "10/10 [==============================] - 0s 1ms/step - loss: 0.1302\n",
            "Epoch 69/100\n",
            "10/10 [==============================] - 0s 1ms/step - loss: 0.1356\n",
            "Epoch 70/100\n",
            "10/10 [==============================] - 0s 1ms/step - loss: 0.1171\n",
            "Epoch 71/100\n",
            "10/10 [==============================] - 0s 1ms/step - loss: 0.1149\n",
            "Epoch 72/100\n",
            "10/10 [==============================] - 0s 1ms/step - loss: 0.1369\n",
            "Epoch 73/100\n",
            "10/10 [==============================] - 0s 1ms/step - loss: 0.1246\n",
            "Epoch 74/100\n",
            "10/10 [==============================] - 0s 2ms/step - loss: 0.1449\n",
            "Epoch 75/100\n",
            "10/10 [==============================] - 0s 2ms/step - loss: 0.1058\n",
            "Epoch 76/100\n",
            "10/10 [==============================] - 0s 2ms/step - loss: 0.1488\n",
            "Epoch 77/100\n",
            "10/10 [==============================] - 0s 1ms/step - loss: 0.1126\n",
            "Epoch 78/100\n",
            "10/10 [==============================] - 0s 1ms/step - loss: 0.1215\n",
            "Epoch 79/100\n",
            "10/10 [==============================] - 0s 2ms/step - loss: 0.1081\n",
            "Epoch 80/100\n",
            "10/10 [==============================] - 0s 1ms/step - loss: 0.1321\n",
            "Epoch 81/100\n",
            "10/10 [==============================] - 0s 1ms/step - loss: 0.1253\n",
            "Epoch 82/100\n",
            "10/10 [==============================] - 0s 2ms/step - loss: 0.1322\n",
            "Epoch 83/100\n",
            "10/10 [==============================] - 0s 1ms/step - loss: 0.1009\n",
            "Epoch 84/100\n",
            "10/10 [==============================] - 0s 2ms/step - loss: 0.1115\n",
            "Epoch 85/100\n",
            "10/10 [==============================] - 0s 2ms/step - loss: 0.1062\n",
            "Epoch 86/100\n",
            "10/10 [==============================] - 0s 2ms/step - loss: 0.1261\n",
            "Epoch 87/100\n",
            "10/10 [==============================] - 0s 1ms/step - loss: 0.1296\n",
            "Epoch 88/100\n",
            "10/10 [==============================] - 0s 1ms/step - loss: 0.1090\n",
            "Epoch 89/100\n",
            "10/10 [==============================] - 0s 1ms/step - loss: 0.1610\n",
            "Epoch 90/100\n",
            "10/10 [==============================] - 0s 2ms/step - loss: 0.1420\n",
            "Epoch 91/100\n",
            "10/10 [==============================] - 0s 1ms/step - loss: 0.1591\n",
            "Epoch 92/100\n",
            "10/10 [==============================] - 0s 2ms/step - loss: 0.1032\n",
            "Epoch 93/100\n",
            "10/10 [==============================] - 0s 1ms/step - loss: 0.1173\n",
            "Epoch 94/100\n",
            "10/10 [==============================] - 0s 2ms/step - loss: 0.1286\n",
            "Epoch 95/100\n",
            "10/10 [==============================] - 0s 2ms/step - loss: 0.1291\n",
            "Epoch 96/100\n",
            "10/10 [==============================] - 0s 1ms/step - loss: 0.1519\n",
            "Epoch 97/100\n",
            "10/10 [==============================] - 0s 1ms/step - loss: 0.1128\n",
            "Epoch 98/100\n",
            "10/10 [==============================] - 0s 2ms/step - loss: 0.1225\n",
            "Epoch 99/100\n",
            "10/10 [==============================] - 0s 2ms/step - loss: 0.1442\n",
            "Epoch 100/100\n",
            "10/10 [==============================] - 0s 2ms/step - loss: 0.1417\n"
          ],
          "name": "stdout"
        },
        {
          "output_type": "execute_result",
          "data": {
            "text/plain": [
              "<tensorflow.python.keras.callbacks.History at 0x7f5dc8fd1630>"
            ]
          },
          "metadata": {
            "tags": []
          },
          "execution_count": 12
        }
      ]
    },
    {
      "cell_type": "code",
      "metadata": {
        "colab": {
          "base_uri": "https://localhost:8080/"
        },
        "id": "Br8vbVAPqPT5",
        "outputId": "4952aaa5-0244-4eb7-868d-2cf732610538"
      },
      "source": [
        "score_fa = model.evaluate(x_test_fa, y_test_fa, verbose=0)\r\n",
        "print(score_fa)"
      ],
      "execution_count": 13,
      "outputs": [
        {
          "output_type": "stream",
          "text": [
            "0.19801932573318481\n"
          ],
          "name": "stdout"
        }
      ]
    },
    {
      "cell_type": "code",
      "metadata": {
        "colab": {
          "base_uri": "https://localhost:8080/",
          "height": 284
        },
        "id": "cnWfGbxzqRlX",
        "outputId": "c770cf01-a797-46b2-e195-cfa736b1fe4a"
      },
      "source": [
        "plt.scatter(x_factor[:,0],x_factor[:,1],c=y,alpha=.8,edgecolors='none')"
      ],
      "execution_count": 14,
      "outputs": [
        {
          "output_type": "execute_result",
          "data": {
            "text/plain": [
              "<matplotlib.collections.PathCollection at 0x7f5dd5a73f60>"
            ]
          },
          "metadata": {
            "tags": []
          },
          "execution_count": 14
        },
        {
          "output_type": "display_data",
          "data": {
            "image/png": "[encoded data removed]",
            "text/plain": [
              "<Figure size 432x288 with 1 Axes>"
            ]
          },
          "metadata": {
            "tags": [],
            "needs_background": "light"
          }
        }
      ]
    }
  ]
}