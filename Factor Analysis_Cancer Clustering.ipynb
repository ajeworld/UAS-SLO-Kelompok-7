{
  "nbformat": 4,
  "nbformat_minor": 0,
  "metadata": {
    "colab": {
      "name": "Untitled2.ipynb",
      "provenance": [],
      "authorship_tag": "ABX9TyNN58LfYqNUbGBfW0glGnjw",
      "include_colab_link": true
    },
    "kernelspec": {
      "name": "python3",
      "display_name": "Python 3"
    }
  },
  "cells": [
    {
      "cell_type": "markdown",
      "metadata": {
        "id": "view-in-github",
        "colab_type": "text"
      },
      "source": [
        "<a href=\"https://colab.research.google.com/github/ajeworld/UAS-SLO-Kelompok-7/blob/main/Factor%20Analysis_Cancer%20Clustering.ipynb\" target=\"_parent\"><img src=\"https://colab.research.google.com/assets/colab-badge.svg\" alt=\"Open In Colab\"/></a>"
      ]
    },
    {
      "cell_type": "code",
      "metadata": {
        "colab": {
          "base_uri": "https://localhost:8080/"
        },
        "id": "bRiimBAupnmc",
        "outputId": "b5cddb90-5ddd-4cef-9d91-9a0b0fe98b80"
      },
      "source": [
        "import pandas as pd\r\n",
        "import sklearn.datasets\r\n",
        "!pip install factor_analyzer  \r\n",
        "from factor_analyzer import FactorAnalyzer\r\n",
        "from factor_analyzer import FactorAnalyzer\r\n",
        "import matplotlib.pyplot as plt"
      ],
      "execution_count": 1,
      "outputs": [
        {
          "output_type": "stream",
          "text": [
            "Collecting factor_analyzer\n",
            "\u001b[?25l  Downloading https://files.pythonhosted.org/packages/44/b5/cbd83484ca6dd4c6562c6d66a6a3a0ecf526e79b2b575b9fb4bf5ad172dd/factor_analyzer-0.3.2.tar.gz (40kB)\n",
            "\r\u001b[K     |████████▏                       | 10kB 26.9MB/s eta 0:00:01\r\u001b[K     |████████████████▍               | 20kB 30.9MB/s eta 0:00:01\r\u001b[K     |████████████████████████▌       | 30kB 16.1MB/s eta 0:00:01\r\u001b[K     |████████████████████████████████| 40kB 4.7MB/s \n",
            "\u001b[?25hRequirement already satisfied: pandas in /usr/local/lib/python3.6/dist-packages (from factor_analyzer) (1.1.5)\n",
            "Requirement already satisfied: scipy in /usr/local/lib/python3.6/dist-packages (from factor_analyzer) (1.4.1)\n",
            "Requirement already satisfied: numpy in /usr/local/lib/python3.6/dist-packages (from factor_analyzer) (1.19.4)\n",
            "Requirement already satisfied: scikit-learn in /usr/local/lib/python3.6/dist-packages (from factor_analyzer) (0.22.2.post1)\n",
            "Requirement already satisfied: python-dateutil>=2.7.3 in /usr/local/lib/python3.6/dist-packages (from pandas->factor_analyzer) (2.8.1)\n",
            "Requirement already satisfied: pytz>=2017.2 in /usr/local/lib/python3.6/dist-packages (from pandas->factor_analyzer) (2018.9)\n",
            "Requirement already satisfied: joblib>=0.11 in /usr/local/lib/python3.6/dist-packages (from scikit-learn->factor_analyzer) (1.0.0)\n",
            "Requirement already satisfied: six>=1.5 in /usr/local/lib/python3.6/dist-packages (from python-dateutil>=2.7.3->pandas->factor_analyzer) (1.15.0)\n",
            "Building wheels for collected packages: factor-analyzer\n",
            "  Building wheel for factor-analyzer (setup.py) ... \u001b[?25l\u001b[?25hdone\n",
            "  Created wheel for factor-analyzer: filename=factor_analyzer-0.3.2-cp36-none-any.whl size=40380 sha256=417083051c9ac50499624fb4b57c93808dfd6eb5e05508f779e238737a78f7d7\n",
            "  Stored in directory: /root/.cache/pip/wheels/4a/d0/57/f1330cb9c80e82d8d05391c74c94ed61ce3f03bf6157f3d6db\n",
            "Successfully built factor-analyzer\n",
            "Installing collected packages: factor-analyzer\n",
            "Successfully installed factor-analyzer-0.3.2\n"
          ],
          "name": "stdout"
        }
      ]
    },
    {
      "cell_type": "code",
      "metadata": {
        "id": "bnTkwrzSptKx"
      },
      "source": [
        "dataset= pd.read_csv(\"data_cancer.csv\")"
      ],
      "execution_count": null,
      "outputs": []
    },
    {
      "cell_type": "code",
      "metadata": {
        "id": "KkesoL3Pp0fH"
      },
      "source": [
        "dataset.columns"
      ],
      "execution_count": null,
      "outputs": []
    },
    {
      "cell_type": "code",
      "metadata": {
        "id": "-RNX27WGp5C5"
      },
      "source": [
        "dataset.info()"
      ],
      "execution_count": null,
      "outputs": []
    },
    {
      "cell_type": "code",
      "metadata": {
        "id": "MQdGj0VLp7Ba"
      },
      "source": [
        "dataset.head()"
      ],
      "execution_count": null,
      "outputs": []
    },
    {
      "cell_type": "code",
      "metadata": {
        "id": "yqdKbI4qp9Xo"
      },
      "source": [
        "x = dataset[['radius_mean', 'perimeter_mean', 'area_mean', 'radius_worst', 'perimeter_worst']]\r\n",
        "y = dataset['diagnosis'].copy()"
      ],
      "execution_count": null,
      "outputs": []
    },
    {
      "cell_type": "code",
      "metadata": {
        "id": "aemd9Bxdp_cA"
      },
      "source": [
        "dataset= pd.read_csv(\"data_cancer.csv\")\r\n",
        "dataset = dataset.drop(columns=['Unnamed: 32'])\r\n",
        "x = dataset[['radius_mean', 'perimeter_mean', 'area_mean', 'radius_worst', 'perimeter_worst']]\r\n",
        "y = dataset['diagnosis'].replace(['M','B'],[1, 0]).copy()\r\n",
        "y.head()"
      ],
      "execution_count": null,
      "outputs": []
    },
    {
      "cell_type": "code",
      "metadata": {
        "id": "SH49ikLFqBPM"
      },
      "source": [
        "from sklearn.decomposition import FactorAnalysis\r\n",
        "fact_an = FactorAnalysis(n_components=2)\r\n",
        "x_factor = fact_an.fit_transform(x)"
      ],
      "execution_count": null,
      "outputs": []
    },
    {
      "cell_type": "code",
      "metadata": {
        "id": "1uzGkCgRqIWh"
      },
      "source": [
        " from sklearn.model_selection import train_test_split\r\n",
        " x_train_fa,x_test_fa,y_train_fa,y_test_fa=train_test_split(x_factor,y,test_size=0.2)"
      ],
      "execution_count": null,
      "outputs": []
    },
    {
      "cell_type": "code",
      "metadata": {
        "id": "ntQ5tyffqKkT"
      },
      "source": [
        "import tensorflow as tf\r\n",
        "from tensorflow import keras\r\n",
        "\r\n",
        "model = keras.Sequential()\r\n",
        "\r\n",
        "input_layer = keras.layers.Dense(8,input_dim=2,activation='tanh')\r\n",
        "model.add(input_layer)\r\n",
        "hidden_layer = keras.layers.Dense(3,activation='sigmoid')\r\n",
        "model.add(hidden_layer)\r\n",
        "output_layer = keras.layers.Dense(1, activation='sigmoid')\r\n",
        "model.add(output_layer)\r\n",
        "\r\n",
        "sgd  = keras.optimizers.SGD(lr=1)\r\n",
        "model.compile(optimizer=sgd,loss='binary_crossentropy')"
      ],
      "execution_count": null,
      "outputs": []
    },
    {
      "cell_type": "code",
      "metadata": {
        "id": "hqnEo6jBqMYY"
      },
      "source": [
        "model.fit(x_train_fa, y_train_fa,\r\n",
        "          epochs=100,\r\n",
        "          steps_per_epoch=10)"
      ],
      "execution_count": null,
      "outputs": []
    },
    {
      "cell_type": "code",
      "metadata": {
        "id": "Br8vbVAPqPT5"
      },
      "source": [
        "score_fa = model.evaluate(x_test_fa, y_test_fa, verbose=0)\r\n",
        "print(score_fa)"
      ],
      "execution_count": null,
      "outputs": []
    },
    {
      "cell_type": "code",
      "metadata": {
        "id": "cnWfGbxzqRlX"
      },
      "source": [
        "plt.scatter(x_factor[:,0],x_factor[:,1],c=y,alpha=.8,edgecolors='none')"
      ],
      "execution_count": null,
      "outputs": []
    }
  ]
}